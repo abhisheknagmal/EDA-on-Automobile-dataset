{
 "cells": [
  {
   "cell_type": "code",
   "execution_count": 32,
   "metadata": {},
   "outputs": [],
   "source": [
    "#Importing libraries....\n",
    "import pandas as pd\n",
    "import numpy as np\n",
    "import matplotlib.pyplot as plt\n",
    "import seaborn as sns"
   ]
  },
  {
   "cell_type": "code",
   "execution_count": 76,
   "metadata": {},
   "outputs": [],
   "source": [
    "#reading csv file using pandas\n",
    "df=pd.read_csv(\"Automobile_data.csv\")"
   ]
  },
  {
   "cell_type": "code",
   "execution_count": 77,
   "metadata": {},
   "outputs": [
    {
     "data": {
      "text/html": [
       "<div>\n",
       "<style scoped>\n",
       "    .dataframe tbody tr th:only-of-type {\n",
       "        vertical-align: middle;\n",
       "    }\n",
       "\n",
       "    .dataframe tbody tr th {\n",
       "        vertical-align: top;\n",
       "    }\n",
       "\n",
       "    .dataframe thead th {\n",
       "        text-align: right;\n",
       "    }\n",
       "</style>\n",
       "<table border=\"1\" class=\"dataframe\">\n",
       "  <thead>\n",
       "    <tr style=\"text-align: right;\">\n",
       "      <th></th>\n",
       "      <th>symboling</th>\n",
       "      <th>make</th>\n",
       "      <th>fuel-type</th>\n",
       "      <th>body-style</th>\n",
       "      <th>drive-wheels</th>\n",
       "      <th>wheel-base</th>\n",
       "      <th>length</th>\n",
       "      <th>width</th>\n",
       "      <th>height</th>\n",
       "      <th>horsepower</th>\n",
       "      <th>peak-rpm</th>\n",
       "      <th>highway-mpg</th>\n",
       "      <th>city-mpg</th>\n",
       "      <th>price</th>\n",
       "    </tr>\n",
       "  </thead>\n",
       "  <tbody>\n",
       "    <tr>\n",
       "      <th>0</th>\n",
       "      <td>3</td>\n",
       "      <td>alfa-romero</td>\n",
       "      <td>gas</td>\n",
       "      <td>convertible</td>\n",
       "      <td>rwd</td>\n",
       "      <td>88.6</td>\n",
       "      <td>168.8</td>\n",
       "      <td>64.1</td>\n",
       "      <td>48.8</td>\n",
       "      <td>111</td>\n",
       "      <td>5000</td>\n",
       "      <td>27</td>\n",
       "      <td>21</td>\n",
       "      <td>13495</td>\n",
       "    </tr>\n",
       "    <tr>\n",
       "      <th>1</th>\n",
       "      <td>3</td>\n",
       "      <td>alfa-romero</td>\n",
       "      <td>gas</td>\n",
       "      <td>convertible</td>\n",
       "      <td>rwd</td>\n",
       "      <td>88.6</td>\n",
       "      <td>168.8</td>\n",
       "      <td>64.1</td>\n",
       "      <td>48.8</td>\n",
       "      <td>111</td>\n",
       "      <td>5000</td>\n",
       "      <td>27</td>\n",
       "      <td>21</td>\n",
       "      <td>16500</td>\n",
       "    </tr>\n",
       "    <tr>\n",
       "      <th>2</th>\n",
       "      <td>1</td>\n",
       "      <td>alfa-romero</td>\n",
       "      <td>gas</td>\n",
       "      <td>hatchback</td>\n",
       "      <td>rwd</td>\n",
       "      <td>94.5</td>\n",
       "      <td>171.2</td>\n",
       "      <td>65.5</td>\n",
       "      <td>52.4</td>\n",
       "      <td>154</td>\n",
       "      <td>5000</td>\n",
       "      <td>26</td>\n",
       "      <td>19</td>\n",
       "      <td>16500</td>\n",
       "    </tr>\n",
       "    <tr>\n",
       "      <th>3</th>\n",
       "      <td>2</td>\n",
       "      <td>audi</td>\n",
       "      <td>gas</td>\n",
       "      <td>sedan</td>\n",
       "      <td>fwd</td>\n",
       "      <td>99.8</td>\n",
       "      <td>176.6</td>\n",
       "      <td>66.2</td>\n",
       "      <td>54.3</td>\n",
       "      <td>102</td>\n",
       "      <td>5500</td>\n",
       "      <td>30</td>\n",
       "      <td>24</td>\n",
       "      <td>13950</td>\n",
       "    </tr>\n",
       "    <tr>\n",
       "      <th>4</th>\n",
       "      <td>2</td>\n",
       "      <td>audi</td>\n",
       "      <td>gas</td>\n",
       "      <td>sedan</td>\n",
       "      <td>4wd</td>\n",
       "      <td>99.4</td>\n",
       "      <td>176.6</td>\n",
       "      <td>66.4</td>\n",
       "      <td>54.3</td>\n",
       "      <td>115</td>\n",
       "      <td>5500</td>\n",
       "      <td>22</td>\n",
       "      <td>18</td>\n",
       "      <td>17450</td>\n",
       "    </tr>\n",
       "  </tbody>\n",
       "</table>\n",
       "</div>"
      ],
      "text/plain": [
       "   symboling         make fuel-type   body-style drive-wheels  wheel-base  \\\n",
       "0          3  alfa-romero       gas  convertible          rwd        88.6   \n",
       "1          3  alfa-romero       gas  convertible          rwd        88.6   \n",
       "2          1  alfa-romero       gas    hatchback          rwd        94.5   \n",
       "3          2         audi       gas        sedan          fwd        99.8   \n",
       "4          2         audi       gas        sedan          4wd        99.4   \n",
       "\n",
       "   length  width  height  horsepower  peak-rpm  highway-mpg  city-mpg  price  \n",
       "0   168.8   64.1    48.8         111      5000           27        21  13495  \n",
       "1   168.8   64.1    48.8         111      5000           27        21  16500  \n",
       "2   171.2   65.5    52.4         154      5000           26        19  16500  \n",
       "3   176.6   66.2    54.3         102      5500           30        24  13950  \n",
       "4   176.6   66.4    54.3         115      5500           22        18  17450  "
      ]
     },
     "execution_count": 77,
     "metadata": {},
     "output_type": "execute_result"
    }
   ],
   "source": [
    "#checking first 5 rows of dataframe.\n",
    "df.head()"
   ]
  },
  {
   "cell_type": "code",
   "execution_count": 78,
   "metadata": {},
   "outputs": [
    {
     "data": {
      "text/html": [
       "<div>\n",
       "<style scoped>\n",
       "    .dataframe tbody tr th:only-of-type {\n",
       "        vertical-align: middle;\n",
       "    }\n",
       "\n",
       "    .dataframe tbody tr th {\n",
       "        vertical-align: top;\n",
       "    }\n",
       "\n",
       "    .dataframe thead th {\n",
       "        text-align: right;\n",
       "    }\n",
       "</style>\n",
       "<table border=\"1\" class=\"dataframe\">\n",
       "  <thead>\n",
       "    <tr style=\"text-align: right;\">\n",
       "      <th></th>\n",
       "      <th>symboling</th>\n",
       "      <th>make</th>\n",
       "      <th>fuel-type</th>\n",
       "      <th>body-style</th>\n",
       "      <th>drive-wheels</th>\n",
       "      <th>wheel-base</th>\n",
       "      <th>length</th>\n",
       "      <th>width</th>\n",
       "      <th>height</th>\n",
       "      <th>horsepower</th>\n",
       "      <th>peak-rpm</th>\n",
       "      <th>highway-mpg</th>\n",
       "      <th>city-mpg</th>\n",
       "      <th>price</th>\n",
       "    </tr>\n",
       "  </thead>\n",
       "  <tbody>\n",
       "    <tr>\n",
       "      <th>200</th>\n",
       "      <td>-1</td>\n",
       "      <td>volvo</td>\n",
       "      <td>gas</td>\n",
       "      <td>sedan</td>\n",
       "      <td>rwd</td>\n",
       "      <td>109.1</td>\n",
       "      <td>188.8</td>\n",
       "      <td>68.9</td>\n",
       "      <td>55.5</td>\n",
       "      <td>114</td>\n",
       "      <td>5400</td>\n",
       "      <td>28</td>\n",
       "      <td>23</td>\n",
       "      <td>16845</td>\n",
       "    </tr>\n",
       "    <tr>\n",
       "      <th>201</th>\n",
       "      <td>-1</td>\n",
       "      <td>volvo</td>\n",
       "      <td>gas</td>\n",
       "      <td>sedan</td>\n",
       "      <td>rwd</td>\n",
       "      <td>109.1</td>\n",
       "      <td>188.8</td>\n",
       "      <td>68.8</td>\n",
       "      <td>55.5</td>\n",
       "      <td>160</td>\n",
       "      <td>5300</td>\n",
       "      <td>25</td>\n",
       "      <td>19</td>\n",
       "      <td>19045</td>\n",
       "    </tr>\n",
       "    <tr>\n",
       "      <th>202</th>\n",
       "      <td>-1</td>\n",
       "      <td>volvo</td>\n",
       "      <td>gas</td>\n",
       "      <td>sedan</td>\n",
       "      <td>rwd</td>\n",
       "      <td>109.1</td>\n",
       "      <td>188.8</td>\n",
       "      <td>68.9</td>\n",
       "      <td>55.5</td>\n",
       "      <td>134</td>\n",
       "      <td>5500</td>\n",
       "      <td>23</td>\n",
       "      <td>18</td>\n",
       "      <td>21485</td>\n",
       "    </tr>\n",
       "    <tr>\n",
       "      <th>203</th>\n",
       "      <td>-1</td>\n",
       "      <td>volvo</td>\n",
       "      <td>diesel</td>\n",
       "      <td>sedan</td>\n",
       "      <td>rwd</td>\n",
       "      <td>109.1</td>\n",
       "      <td>188.8</td>\n",
       "      <td>68.9</td>\n",
       "      <td>55.5</td>\n",
       "      <td>106</td>\n",
       "      <td>4800</td>\n",
       "      <td>27</td>\n",
       "      <td>26</td>\n",
       "      <td>22470</td>\n",
       "    </tr>\n",
       "    <tr>\n",
       "      <th>204</th>\n",
       "      <td>-1</td>\n",
       "      <td>volvo</td>\n",
       "      <td>gas</td>\n",
       "      <td>sedan</td>\n",
       "      <td>rwd</td>\n",
       "      <td>109.1</td>\n",
       "      <td>188.8</td>\n",
       "      <td>68.9</td>\n",
       "      <td>55.5</td>\n",
       "      <td>114</td>\n",
       "      <td>5400</td>\n",
       "      <td>25</td>\n",
       "      <td>19</td>\n",
       "      <td>22625</td>\n",
       "    </tr>\n",
       "  </tbody>\n",
       "</table>\n",
       "</div>"
      ],
      "text/plain": [
       "     symboling   make fuel-type body-style drive-wheels  wheel-base  length  \\\n",
       "200         -1  volvo       gas      sedan          rwd       109.1   188.8   \n",
       "201         -1  volvo       gas      sedan          rwd       109.1   188.8   \n",
       "202         -1  volvo       gas      sedan          rwd       109.1   188.8   \n",
       "203         -1  volvo    diesel      sedan          rwd       109.1   188.8   \n",
       "204         -1  volvo       gas      sedan          rwd       109.1   188.8   \n",
       "\n",
       "     width  height  horsepower  peak-rpm  highway-mpg  city-mpg  price  \n",
       "200   68.9    55.5         114      5400           28        23  16845  \n",
       "201   68.8    55.5         160      5300           25        19  19045  \n",
       "202   68.9    55.5         134      5500           23        18  21485  \n",
       "203   68.9    55.5         106      4800           27        26  22470  \n",
       "204   68.9    55.5         114      5400           25        19  22625  "
      ]
     },
     "execution_count": 78,
     "metadata": {},
     "output_type": "execute_result"
    }
   ],
   "source": [
    "#checking last 5 rows of dataframe.\n",
    "df.tail()"
   ]
  },
  {
   "cell_type": "code",
   "execution_count": 79,
   "metadata": {},
   "outputs": [
    {
     "name": "stdout",
     "output_type": "stream",
     "text": [
      "<class 'pandas.core.frame.DataFrame'>\n",
      "RangeIndex: 205 entries, 0 to 204\n",
      "Data columns (total 14 columns):\n",
      " #   Column        Non-Null Count  Dtype  \n",
      "---  ------        --------------  -----  \n",
      " 0   symboling     205 non-null    int64  \n",
      " 1   make          205 non-null    object \n",
      " 2   fuel-type     205 non-null    object \n",
      " 3   body-style    205 non-null    object \n",
      " 4   drive-wheels  205 non-null    object \n",
      " 5   wheel-base    205 non-null    float64\n",
      " 6   length        205 non-null    float64\n",
      " 7   width         205 non-null    float64\n",
      " 8   height        205 non-null    float64\n",
      " 9   horsepower    205 non-null    int64  \n",
      " 10  peak-rpm      205 non-null    int64  \n",
      " 11  highway-mpg   205 non-null    int64  \n",
      " 12  city-mpg      205 non-null    int64  \n",
      " 13  price         205 non-null    int64  \n",
      "dtypes: float64(4), int64(6), object(4)\n",
      "memory usage: 22.5+ KB\n"
     ]
    }
   ],
   "source": [
    "#checking no-null values and their count and type of all columns.\n",
    "df.info()"
   ]
  },
  {
   "cell_type": "code",
   "execution_count": 80,
   "metadata": {},
   "outputs": [
    {
     "data": {
      "text/html": [
       "<div>\n",
       "<style scoped>\n",
       "    .dataframe tbody tr th:only-of-type {\n",
       "        vertical-align: middle;\n",
       "    }\n",
       "\n",
       "    .dataframe tbody tr th {\n",
       "        vertical-align: top;\n",
       "    }\n",
       "\n",
       "    .dataframe thead th {\n",
       "        text-align: right;\n",
       "    }\n",
       "</style>\n",
       "<table border=\"1\" class=\"dataframe\">\n",
       "  <thead>\n",
       "    <tr style=\"text-align: right;\">\n",
       "      <th></th>\n",
       "      <th>symboling</th>\n",
       "      <th>wheel-base</th>\n",
       "      <th>length</th>\n",
       "      <th>width</th>\n",
       "      <th>height</th>\n",
       "      <th>horsepower</th>\n",
       "      <th>peak-rpm</th>\n",
       "      <th>highway-mpg</th>\n",
       "      <th>city-mpg</th>\n",
       "      <th>price</th>\n",
       "    </tr>\n",
       "  </thead>\n",
       "  <tbody>\n",
       "    <tr>\n",
       "      <th>count</th>\n",
       "      <td>205.000000</td>\n",
       "      <td>205.000000</td>\n",
       "      <td>205.000000</td>\n",
       "      <td>205.000000</td>\n",
       "      <td>205.000000</td>\n",
       "      <td>205.000000</td>\n",
       "      <td>205.000000</td>\n",
       "      <td>205.000000</td>\n",
       "      <td>205.000000</td>\n",
       "      <td>205.000000</td>\n",
       "    </tr>\n",
       "    <tr>\n",
       "      <th>mean</th>\n",
       "      <td>0.834146</td>\n",
       "      <td>98.756585</td>\n",
       "      <td>174.049268</td>\n",
       "      <td>65.907805</td>\n",
       "      <td>53.724878</td>\n",
       "      <td>104.936585</td>\n",
       "      <td>5127.804878</td>\n",
       "      <td>30.751220</td>\n",
       "      <td>25.219512</td>\n",
       "      <td>13476.258537</td>\n",
       "    </tr>\n",
       "    <tr>\n",
       "      <th>std</th>\n",
       "      <td>1.245307</td>\n",
       "      <td>6.021776</td>\n",
       "      <td>12.337289</td>\n",
       "      <td>2.145204</td>\n",
       "      <td>2.443522</td>\n",
       "      <td>40.609702</td>\n",
       "      <td>478.414007</td>\n",
       "      <td>6.886443</td>\n",
       "      <td>6.542142</td>\n",
       "      <td>8114.166248</td>\n",
       "    </tr>\n",
       "    <tr>\n",
       "      <th>min</th>\n",
       "      <td>-2.000000</td>\n",
       "      <td>86.600000</td>\n",
       "      <td>141.100000</td>\n",
       "      <td>60.300000</td>\n",
       "      <td>47.800000</td>\n",
       "      <td>48.000000</td>\n",
       "      <td>4150.000000</td>\n",
       "      <td>16.000000</td>\n",
       "      <td>13.000000</td>\n",
       "      <td>5118.000000</td>\n",
       "    </tr>\n",
       "    <tr>\n",
       "      <th>25%</th>\n",
       "      <td>0.000000</td>\n",
       "      <td>94.500000</td>\n",
       "      <td>166.300000</td>\n",
       "      <td>64.100000</td>\n",
       "      <td>52.000000</td>\n",
       "      <td>70.000000</td>\n",
       "      <td>4800.000000</td>\n",
       "      <td>25.000000</td>\n",
       "      <td>19.000000</td>\n",
       "      <td>7788.000000</td>\n",
       "    </tr>\n",
       "    <tr>\n",
       "      <th>50%</th>\n",
       "      <td>1.000000</td>\n",
       "      <td>97.000000</td>\n",
       "      <td>173.200000</td>\n",
       "      <td>65.500000</td>\n",
       "      <td>54.100000</td>\n",
       "      <td>95.000000</td>\n",
       "      <td>5200.000000</td>\n",
       "      <td>30.000000</td>\n",
       "      <td>24.000000</td>\n",
       "      <td>10595.000000</td>\n",
       "    </tr>\n",
       "    <tr>\n",
       "      <th>75%</th>\n",
       "      <td>2.000000</td>\n",
       "      <td>102.400000</td>\n",
       "      <td>183.100000</td>\n",
       "      <td>66.900000</td>\n",
       "      <td>55.500000</td>\n",
       "      <td>116.000000</td>\n",
       "      <td>5500.000000</td>\n",
       "      <td>34.000000</td>\n",
       "      <td>30.000000</td>\n",
       "      <td>16558.000000</td>\n",
       "    </tr>\n",
       "    <tr>\n",
       "      <th>max</th>\n",
       "      <td>3.000000</td>\n",
       "      <td>120.900000</td>\n",
       "      <td>208.100000</td>\n",
       "      <td>72.300000</td>\n",
       "      <td>59.800000</td>\n",
       "      <td>288.000000</td>\n",
       "      <td>6600.000000</td>\n",
       "      <td>54.000000</td>\n",
       "      <td>49.000000</td>\n",
       "      <td>45400.000000</td>\n",
       "    </tr>\n",
       "  </tbody>\n",
       "</table>\n",
       "</div>"
      ],
      "text/plain": [
       "        symboling  wheel-base      length       width      height  horsepower  \\\n",
       "count  205.000000  205.000000  205.000000  205.000000  205.000000  205.000000   \n",
       "mean     0.834146   98.756585  174.049268   65.907805   53.724878  104.936585   \n",
       "std      1.245307    6.021776   12.337289    2.145204    2.443522   40.609702   \n",
       "min     -2.000000   86.600000  141.100000   60.300000   47.800000   48.000000   \n",
       "25%      0.000000   94.500000  166.300000   64.100000   52.000000   70.000000   \n",
       "50%      1.000000   97.000000  173.200000   65.500000   54.100000   95.000000   \n",
       "75%      2.000000  102.400000  183.100000   66.900000   55.500000  116.000000   \n",
       "max      3.000000  120.900000  208.100000   72.300000   59.800000  288.000000   \n",
       "\n",
       "          peak-rpm  highway-mpg    city-mpg         price  \n",
       "count   205.000000   205.000000  205.000000    205.000000  \n",
       "mean   5127.804878    30.751220   25.219512  13476.258537  \n",
       "std     478.414007     6.886443    6.542142   8114.166248  \n",
       "min    4150.000000    16.000000   13.000000   5118.000000  \n",
       "25%    4800.000000    25.000000   19.000000   7788.000000  \n",
       "50%    5200.000000    30.000000   24.000000  10595.000000  \n",
       "75%    5500.000000    34.000000   30.000000  16558.000000  \n",
       "max    6600.000000    54.000000   49.000000  45400.000000  "
      ]
     },
     "execution_count": 80,
     "metadata": {},
     "output_type": "execute_result"
    }
   ],
   "source": [
    "#getting  summary statistics of dataframe\n",
    "df.describe()"
   ]
  },
  {
   "cell_type": "code",
   "execution_count": 81,
   "metadata": {},
   "outputs": [
    {
     "data": {
      "text/plain": [
       "{'city-mpg',\n",
       " 'height',\n",
       " 'highway-mpg',\n",
       " 'horsepower',\n",
       " 'length',\n",
       " 'peak-rpm',\n",
       " 'price',\n",
       " 'symboling',\n",
       " 'wheel-base',\n",
       " 'width'}"
      ]
     },
     "execution_count": 81,
     "metadata": {},
     "output_type": "execute_result"
    }
   ],
   "source": [
    "#checking which columns are of numerical type \n",
    "set(df._get_numeric_data().columns)"
   ]
  },
  {
   "cell_type": "code",
   "execution_count": 82,
   "metadata": {},
   "outputs": [
    {
     "data": {
      "text/plain": [
       "{'body-style', 'drive-wheels', 'fuel-type', 'make'}"
      ]
     },
     "execution_count": 82,
     "metadata": {},
     "output_type": "execute_result"
    }
   ],
   "source": [
    "#checking which columns are of categorical data type\n",
    "categorical_features=set(df.columns)-set(df._get_numeric_data().columns)\n",
    "categorical_features"
   ]
  },
  {
   "cell_type": "code",
   "execution_count": 118,
   "metadata": {},
   "outputs": [
    {
     "data": {
      "text/plain": [
       "<matplotlib.axes._subplots.AxesSubplot at 0xe5559c8>"
      ]
     },
     "execution_count": 118,
     "metadata": {},
     "output_type": "execute_result"
    },
    {
     "data": {
      "image/png": "[encoded data removed]",
      "text/plain": [
       "<Figure size 432x288 with 1 Axes>"
      ]
     },
     "metadata": {
      "needs_background": "light"
     },
     "output_type": "display_data"
    }
   ],
   "source": [
    "#Checking Numerical features in Univariate variables\n",
    "#Histogram\n",
    "# identifying a few variables of interest and checking their distribution.\n",
    "x = df.horsepower\n",
    "sns.distplot(x, kde=False)\n",
    "\n"
   ]
  },
  {
   "cell_type": "code",
   "execution_count": 119,
   "metadata": {},
   "outputs": [
    {
     "data": {
      "text/plain": [
       "<matplotlib.axes._subplots.AxesSubplot at 0xe5d9348>"
      ]
     },
     "execution_count": 119,
     "metadata": {},
     "output_type": "execute_result"
    },
    {
     "data": {
      "image/png": "[encoded data removed]",
      "text/plain": [
       "<Figure size 432x288 with 1 Axes>"
      ]
     },
     "metadata": {
      "needs_background": "light"
     },
     "output_type": "display_data"
    }
   ],
   "source": [
    "# In order to make any prediction we need to fit a linear regression model, so we made sure the distribution of the variables is almost linear.\n",
    "#Checking is there any skewness in distribution and outliers are present\n",
    "\n",
    "sns.distplot(x)\n"
   ]
  },
  {
   "cell_type": "code",
   "execution_count": 120,
   "metadata": {},
   "outputs": [],
   "source": [
    "# above plot looking like positively skewed\n",
    "#if we remove the outliers I think it might become perfect fit for linear model\n",
    "# So i will use IQR method to find outliers.\n"
   ]
  },
  {
   "cell_type": "code",
   "execution_count": 121,
   "metadata": {},
   "outputs": [],
   "source": [
    "# Five Number Rule:\n",
    "#  minimum (min)\n",
    "#  first quartile (q1)\n",
    "#  median (med) \n",
    "#  third quartile (q3)\n",
    "#  maximum (max)\n",
    "\n",
    "\n",
    "\n",
    "\n",
    "#median(med)\n",
    "med=x.median()\n",
    "\n",
    "#first quartile(q1)\n",
    "q1=x.quantile(0.25)\n",
    "\n",
    "#third quartile(q3)\n",
    "q3=x.quantile(0.75)\n",
    "\n",
    "# Interquartile range(iqr)= q3 -q1\n",
    "iqr = q3 -q1\n",
    "\n",
    "#maximum(max)= q3 + 1.5* iqr\n",
    "max= q3 + 1.5*iqr\n",
    "\n",
    "#minimum (min)= q1- 1.5*iqr\n",
    "min=q1-1.5*iqr"
   ]
  },
  {
   "cell_type": "code",
   "execution_count": 122,
   "metadata": {},
   "outputs": [
    {
     "data": {
      "text/plain": [
       "horsepower    7\n",
       "dtype: int64"
      ]
     },
     "execution_count": 122,
     "metadata": {},
     "output_type": "execute_result"
    }
   ],
   "source": [
    "#checking no of outliers\n",
    "df[x>max].count()"
   ]
  },
  {
   "cell_type": "code",
   "execution_count": 123,
   "metadata": {},
   "outputs": [
    {
     "data": {
      "text/plain": [
       "horsepower    0\n",
       "dtype: int64"
      ]
     },
     "execution_count": 123,
     "metadata": {},
     "output_type": "execute_result"
    }
   ],
   "source": [
    "#It seems there are 7 outliers above the maximum\n",
    "#now checking below minimum \n",
    "df[x<min].count()"
   ]
  },
  {
   "cell_type": "code",
   "execution_count": 124,
   "metadata": {},
   "outputs": [
    {
     "data": {
      "text/plain": [
       "{'whiskers': [<matplotlib.lines.Line2D at 0xe699548>,\n",
       "  <matplotlib.lines.Line2D at 0xe6a9c08>],\n",
       " 'caps': [<matplotlib.lines.Line2D at 0xe6a9d08>,\n",
       "  <matplotlib.lines.Line2D at 0xe6a9d88>],\n",
       " 'boxes': [<matplotlib.lines.Line2D at 0xe6a1fc8>],\n",
       " 'medians': [<matplotlib.lines.Line2D at 0xe6b0c88>],\n",
       " 'fliers': [<matplotlib.lines.Line2D at 0xe6b0d88>],\n",
       " 'means': []}"
      ]
     },
     "execution_count": 124,
     "metadata": {},
     "output_type": "execute_result"
    },
    {
     "data": {
      "image/png": "[encoded data removed]",
      "text/plain": [
       "<Figure size 432x288 with 1 Axes>"
      ]
     },
     "metadata": {
      "needs_background": "light"
     },
     "output_type": "display_data"
    }
   ],
   "source": [
    "#Using IQR it shows there are no outliers are there.\n",
    "\n",
    "\n",
    "#another way of checking outliers is box and whiskar plot\n",
    "\n",
    "plt.boxplot(x)"
   ]
  },
  {
   "cell_type": "code",
   "execution_count": 141,
   "metadata": {
    "scrolled": false
   },
   "outputs": [
    {
     "data": {
      "text/plain": [
       "{'whiskers': [<matplotlib.lines.Line2D at 0x18a81ec8>,\n",
       "  <matplotlib.lines.Line2D at 0x18a81fc8>],\n",
       " 'caps': [<matplotlib.lines.Line2D at 0x18a9cfc8>,\n",
       "  <matplotlib.lines.Line2D at 0x18a9cf88>],\n",
       " 'boxes': [<matplotlib.lines.Line2D at 0x18a813c8>],\n",
       " 'medians': [<matplotlib.lines.Line2D at 0x18a9df88>],\n",
       " 'fliers': [<matplotlib.lines.Line2D at 0x189f4988>],\n",
       " 'means': []}"
      ]
     },
     "execution_count": 141,
     "metadata": {},
     "output_type": "execute_result"
    },
    {
     "data": {
      "image/png": "[encoded data removed]",
      "text/plain": [
       "<Figure size 432x288 with 1 Axes>"
      ]
     },
     "metadata": {
      "needs_background": "light"
     },
     "output_type": "display_data"
    }
   ],
   "source": [
    "#handling outliers\n",
    "df=df[x<=max]\n",
    "#Now there are no outliers\n",
    "#just take a look\n",
    "plt.boxplot(df.horsepower)\n"
   ]
  },
  {
   "cell_type": "code",
   "execution_count": 154,
   "metadata": {
    "scrolled": true
   },
   "outputs": [
    {
     "data": {
      "text/plain": [
       "<matplotlib.axes._subplots.AxesSubplot at 0x19129648>"
      ]
     },
     "execution_count": 154,
     "metadata": {},
     "output_type": "execute_result"
    },
    {
     "data": {
      "image/png": "[encoded data removed]",
      "text/plain": [
       "<Figure size 1800x720 with 1 Axes>"
      ]
     },
     "metadata": {
      "needs_background": "light"
     },
     "output_type": "display_data"
    }
   ],
   "source": [
    "#Categorical features in univariate variables\n",
    "#we will use COUNTPLOTS for plotting categorical features\n",
    "#again importing csv because i already used df variable\n",
    "df=pd.read_csv('Automobile_data.csv')\n",
    "plt.figure(figsize=(25,10))\n",
    "sns.countplot(df['make'])\n",
    "\n",
    "#plot shows the counts of observations in each categorical bin using bars\n"
   ]
  },
  {
   "cell_type": "code",
   "execution_count": null,
   "metadata": {},
   "outputs": [],
   "source": [
    "# If anything I have missed In EDA- Univariate analysis.\n",
    "# please comment me."
   ]
  }
 ],
 "metadata": {
  "kernelspec": {
   "display_name": "Python 3",
   "language": "python",
   "name": "python3"
  },
  "language_info": {
   "codemirror_mode": {
    "name": "ipython",
    "version": 3
   },
   "file_extension": ".py",
   "mimetype": "text/x-python",
   "name": "python",
   "nbconvert_exporter": "python",
   "pygments_lexer": "ipython3",
   "version": "3.7.6"
  }
 },
 "nbformat": 4,
 "nbformat_minor": 4
}
